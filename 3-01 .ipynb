{
 "metadata": {
  "language_info": {
   "codemirror_mode": {
    "name": "ipython",
    "version": 3
   },
   "file_extension": ".py",
   "mimetype": "text/x-python",
   "name": "python",
   "nbconvert_exporter": "python",
   "pygments_lexer": "ipython3",
   "version": 3
  },
  "orig_nbformat": 2,
  "kernelspec": {
   "name": "python_defaultSpec_1595130929274",
   "display_name": "Python 3.8.2 32-bit"
  }
 },
 "nbformat": 4,
 "nbformat_minor": 2,
 "cells": [
  {
   "cell_type": "code",
   "execution_count": 2,
   "metadata": {},
   "outputs": [],
   "source": [
    "#if　文の構造\n",
    "#if 条件式:\n",
    "   #条件式が真だった場合の処理"
   ]
  },
  {
   "cell_type": "code",
   "execution_count": 5,
   "metadata": {},
   "outputs": [],
   "source": [
    "#ifの後に半角スペース条件式の後に　:　を忘れずに！\n",
    "#if a >=10:\n",
    "    #print(a)"
   ]
  },
  {
   "cell_type": "code",
   "execution_count": 12,
   "metadata": {},
   "outputs": [],
   "source": [
    "#比較演算子\n",
    "#if a > 10:\n",
    "    #print('OK')"
   ]
  },
  {
   "cell_type": "code",
   "execution_count": 10,
   "metadata": {
    "tags": []
   },
   "outputs": [
    {
     "output_type": "stream",
     "name": "stdout",
     "text": "OK\n"
    }
   ],
   "source": [
    "#in演算子\n",
    "if 'a' in['a','b','c']:\n",
    "    print('OK')"
   ]
  },
  {
   "cell_type": "code",
   "execution_count": 15,
   "metadata": {},
   "outputs": [],
   "source": [
    "#論理演算子\n",
    "#論理演算子は、複数の条件式をつなげて複雑な条件として判定する場合に使います。\n",
    "#if a > 10 and b <=15:\n",
    "    #print('OK')"
   ]
  },
  {
   "cell_type": "code",
   "execution_count": 17,
   "metadata": {
    "tags": []
   },
   "outputs": [
    {
     "output_type": "stream",
     "name": "stdout",
     "text": "OK\nOK\nOK\n"
    }
   ],
   "source": [
    "#数値やリスト\n",
    "if 10:\n",
    "    print('OK')\n",
    "# 10 -> True\n",
    "\n",
    "if 0:\n",
    "    print('OK')\n",
    "# 0 -> False\n",
    "\n",
    "if [1,2]:\n",
    "    print('OK')\n",
    "#[1,2] -> True\n",
    "\n",
    "if[]:\n",
    "    print('OK')\n",
    "#[] -> False\n",
    "\n",
    "if'False':\n",
    "    print('OK')\n",
    "#文字列の'False' -> True"
   ]
  },
  {
   "cell_type": "code",
   "execution_count": 19,
   "metadata": {},
   "outputs": [
    {
     "output_type": "execute_result",
     "data": {
      "text/plain": "True"
     },
     "metadata": {},
     "execution_count": 19
    }
   ],
   "source": [
    "#組み込み関数をbool()をつかうことで真偽値を明示することができます。\n",
    "bool(10)"
   ]
  },
  {
   "cell_type": "code",
   "execution_count": 20,
   "metadata": {
    "tags": []
   },
   "outputs": [
    {
     "output_type": "stream",
     "name": "stdout",
     "text": "False\nTrue\nFalse\nTrue\n"
    }
   ],
   "source": [
    "print(bool(0))\n",
    "print(bool([1,2]))\n",
    "print(bool([]))\n",
    "print(bool('False'))"
   ]
  },
  {
   "cell_type": "code",
   "execution_count": 22,
   "metadata": {
    "tags": []
   },
   "outputs": [
    {
     "output_type": "stream",
     "name": "stdout",
     "text": "100\n"
    }
   ],
   "source": [
    "#問題１\n",
    "a = 100\n",
    "if a >=10:\n",
    "    print(a)"
   ]
  },
  {
   "cell_type": "code",
   "execution_count": 24,
   "metadata": {},
   "outputs": [],
   "source": [
    "#問題１解説\n",
    "#1行目で変数を代入\n",
    "#2行目で比較演算子をつかって判定\n",
    "#3行目で変数aの値を表示\n",
    "#よって答えは100"
   ]
  },
  {
   "cell_type": "code",
   "execution_count": 29,
   "metadata": {
    "tags": []
   },
   "outputs": [
    {
     "output_type": "stream",
     "name": "stdout",
     "text": "1\n"
    }
   ],
   "source": [
    "#問題２\n",
    "a = 0\n",
    "if a == 0:\n",
    "    a += 1\n",
    "    a *= 2\n",
    "    a -= 1\n",
    "print(a)"
   ]
  },
  {
   "cell_type": "code",
   "execution_count": null,
   "metadata": {},
   "outputs": [],
   "source": [
    "#問題２解説\n",
    "#1行目で変数aに値を代入\n",
    "#2行目で変数aが0であるかどうかを判定\n",
    "#結果はTrue →　3行目～5行目まで処理を実行\n",
    "#3~5行目は算術演算を行って変数aの値を書き換えています\n",
    "#3行目で、変数aの値に1を加算　→　結果 a= 1\n",
    "#4行目で、変数aの値を2倍　→　結果 a = 2\n",
    "#5行目で、変数aの値から1減算　→結果 a = 1\n",
    "#よって答えは1"
   ]
  },
  {
   "cell_type": "code",
   "execution_count": 30,
   "metadata": {
    "tags": []
   },
   "outputs": [
    {
     "output_type": "stream",
     "name": "stdout",
     "text": "0\n"
    }
   ],
   "source": [
    "#もし2行目の比較演算子が a>0　だったら\n",
    "a = 0\n",
    "if a > 0:\n",
    "    a += 1\n",
    "    a *= 2\n",
    "    a -= 1\n",
    "print(a)"
   ]
  }
 ]
}