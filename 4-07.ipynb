{
 "metadata": {
  "language_info": {
   "codemirror_mode": {
    "name": "ipython",
    "version": 3
   },
   "file_extension": ".py",
   "mimetype": "text/x-python",
   "name": "python",
   "nbconvert_exporter": "python",
   "pygments_lexer": "ipython3",
   "version": 3
  },
  "orig_nbformat": 2,
  "kernelspec": {
   "name": "python_defaultSpec_1596704918334",
   "display_name": "Python 3.8.2 32-bit"
  }
 },
 "nbformat": 4,
 "nbformat_minor": 2,
 "cells": [
  {
   "cell_type": "code",
   "execution_count": 1,
   "metadata": {},
   "outputs": [],
   "source": [
    "#関数の中の関数"
   ]
  },
  {
   "cell_type": "code",
   "execution_count": 2,
   "metadata": {},
   "outputs": [],
   "source": [
    "#関数内関数を作る\n",
    "def outer(a,b):\n",
    "    print('outer function (a,b) = ({},{})'.format(a,b))\n",
    "    def innner(c,d):\n",
    "        print('inner function (c,d) = ({},{})'.format(c,d))\n",
    "        return c * d\n",
    "    return innner(a,b)"
   ]
  },
  {
   "cell_type": "code",
   "execution_count": 3,
   "metadata": {
    "tags": []
   },
   "outputs": [
    {
     "output_type": "stream",
     "name": "stdout",
     "text": "outer function (a,b) = (4,7)\ninner function (c,d) = (4,7)\n28\n"
    }
   ],
   "source": [
    "a = outer(4,7)\n",
    "print(a)"
   ]
  },
  {
   "cell_type": "code",
   "execution_count": 4,
   "metadata": {},
   "outputs": [
    {
     "output_type": "execute_result",
     "data": {
      "text/plain": "\"We are the knights who say: 'Ni!'\""
     },
     "metadata": {},
     "execution_count": 4
    }
   ],
   "source": [
    "def knights(saylung):\n",
    "    def inner(quote):\n",
    "        return \"We are the knights who say: '%s'\" % quote\n",
    "    return inner(saylung)\n",
    "\n",
    "knights('Ni!')"
   ]
  },
  {
   "cell_type": "code",
   "execution_count": 6,
   "metadata": {},
   "outputs": [],
   "source": [
    "#クロージャ　ほかの関数によって動的に生成される関数で、その関数の外で作られた変数の値を覚えておいたり、変えたりすることができる。\n",
    "def make_circle_area_func(pi = 3.14):\n",
    "    '''円の面積を計算する関数を作る'''\n",
    "\n",
    "    def circle_area(radius):\n",
    "        '''円の面積を計算する'''\n",
    "\n",
    "        return radius * radius *pi\n",
    "    \n",
    "    return circle_area\n",
    "\n",
    "#pi が 初期設定(3,14)のとき\n",
    "circle_area_default = make_circle_area_func()\n",
    "#pi が 3,1415926535のとき\n",
    "circle_area_parecise = make_circle_area_func(pi=3.1415926535) "
   ]
  },
  {
   "cell_type": "code",
   "execution_count": 7,
   "metadata": {},
   "outputs": [
    {
     "output_type": "execute_result",
     "data": {
      "text/plain": "(function, function)"
     },
     "metadata": {},
     "execution_count": 7
    }
   ],
   "source": [
    "type(circle_area_default),type(circle_area_parecise)"
   ]
  },
  {
   "cell_type": "code",
   "execution_count": 8,
   "metadata": {
    "tags": []
   },
   "outputs": [
    {
     "output_type": "stream",
     "name": "stdout",
     "text": "12.56\n12.566370614\n"
    }
   ],
   "source": [
    "#半径の2の円の面積、piの制度が異なる\n",
    "print(circle_area_default(2))\n",
    "print(circle_area_parecise(2))"
   ]
  },
  {
   "cell_type": "code",
   "execution_count": 9,
   "metadata": {
    "tags": []
   },
   "outputs": [
    {
     "output_type": "stream",
     "name": "stdout",
     "text": "1\n2\n3\n"
    }
   ],
   "source": [
    "#nonlocal変数を使ったクロージャ\n",
    "def makecounter():\n",
    "    '''呼ばれるたびにカウントを1ずつ増やすカウンタ関数を生成する'''\n",
    "    n = 0\n",
    "    def count():\n",
    "        nonlocal n\n",
    "        n += 1\n",
    "        return n\n",
    "    return count\n",
    "\n",
    "counter = makecounter()\n",
    "print(counter())\n",
    "print(counter())\n",
    "print(counter())"
   ]
  },
  {
   "cell_type": "code",
   "execution_count": 10,
   "metadata": {
    "tags": []
   },
   "outputs": [
    {
     "output_type": "stream",
     "name": "stdout",
     "text": "==== flag: Red\nSelection is 0 which may be the default\n====\n==== flag: Blue\nYour choice is 0\n====\n"
    }
   ],
   "source": [
    "#関数内関数のメリット\n",
    "def show_massage(num=0):\n",
    "    \"\"\"入力値に応じて違うメッセージを表示する\n",
    "\n",
    "    入力:0 or それ以外\n",
    "    \"\"\"\n",
    "\n",
    "    if num == 0:\n",
    "        flag = \"Red\"\n",
    "        print(\"==== flag:\",flag)\n",
    "        print(\"Selection is\", num,\"which may be the default\")\n",
    "        print(\"====\")\n",
    "        flag =\"Blue\"\n",
    "        print(\"==== flag:\", flag)\n",
    "        print(\"Your choice is\", num)\n",
    "        print(\"====\")\n",
    "\n",
    "show_massage(0)\n",
    "show_massage(1)"
   ]
  },
  {
   "cell_type": "code",
   "execution_count": 12,
   "metadata": {
    "tags": []
   },
   "outputs": [
    {
     "output_type": "stream",
     "name": "stdout",
     "text": "==== flag: Red\nSelection is 0 which may be the default\n====\n==== flag: Blue\nYour choice is 0\n====\n"
    }
   ],
   "source": [
    "#機能別に整頓することができる\n",
    "def show_message(num=0):\n",
    "    \"\"\"入力値に応じて違うメッセージを表示する\n",
    "\n",
    "    入力:0 or それ以外\n",
    "    \"\"\"\n",
    "\n",
    "    def decolate(func):\n",
    "        if num == 0:\n",
    "            flag =\"Red\"\n",
    "        else:\n",
    "            flag =\"Blue\"\n",
    "        \n",
    "        print(\"===== flag\",flag)\n",
    "        func()\n",
    "        print(\"====\")\n",
    "    \n",
    "    def show_selection(num=num):\n",
    "        if num == 0:\n",
    "            print(\"Selection is\",num,\"which may be the default\")\n",
    "        else:\n",
    "            print(\"Your choice is \", num)\n",
    "    \n",
    "    decolate(show_selection)\n",
    "\n",
    "show_massage(0)\n",
    "show_massage(1)"
   ]
  },
  {
   "cell_type": "code",
   "execution_count": 13,
   "metadata": {},
   "outputs": [],
   "source": [
    "#問題.1\n",
    "#二つの数値を受け取り、それらを足し合わせた値を返す関数をかえす関数を作成せよ\n",
    "def make_addfunc():\n",
    "    def add(x,y):\n",
    "        return x + y\n",
    "    return add"
   ]
  },
  {
   "cell_type": "code",
   "execution_count": 14,
   "metadata": {
    "tags": []
   },
   "outputs": [
    {
     "output_type": "stream",
     "name": "stdout",
     "text": "11\n"
    }
   ],
   "source": [
    "adder = make_addfunc()\n",
    "answer = adder(1,10)\n",
    "print(answer)"
   ]
  }
 ]
}