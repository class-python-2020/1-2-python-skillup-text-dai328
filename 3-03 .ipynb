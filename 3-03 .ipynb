{
 "metadata": {
  "language_info": {
   "codemirror_mode": {
    "name": "ipython",
    "version": 3
   },
   "file_extension": ".py",
   "mimetype": "text/x-python",
   "name": "python",
   "nbconvert_exporter": "python",
   "pygments_lexer": "ipython3",
   "version": 3
  },
  "orig_nbformat": 2,
  "kernelspec": {
   "name": "python_defaultSpec_1595904264102",
   "display_name": "Python 3.8.2 32-bit"
  }
 },
 "nbformat": 4,
 "nbformat_minor": 2,
 "cells": [
  {
   "cell_type": "code",
   "execution_count": 2,
   "metadata": {},
   "outputs": [],
   "source": [
    "#for文の基礎\n",
    "#形\n",
    "# for　変数　in リストなど:\n",
    "#　　　繰り返したい処理"
   ]
  },
  {
   "cell_type": "code",
   "execution_count": 4,
   "metadata": {
    "tags": []
   },
   "outputs": [
    {
     "output_type": "stream",
     "name": "stdout",
     "text": "0\n1\n2\n3\n4\n"
    }
   ],
   "source": [
    "for i in [0,1,2,3,4]:\n",
    "    print(i)"
   ]
  },
  {
   "cell_type": "code",
   "execution_count": 6,
   "metadata": {
    "tags": []
   },
   "outputs": [
    {
     "output_type": "stream",
     "name": "stdout",
     "text": "0\n1\n2\n3\n4\n"
    }
   ],
   "source": [
    "my_list = [0,1,2,3,4]\n",
    "for i in my_list:\n",
    "    print(i)"
   ]
  },
  {
   "cell_type": "code",
   "execution_count": 9,
   "metadata": {
    "tags": []
   },
   "outputs": [
    {
     "output_type": "stream",
     "name": "stdout",
     "text": "0\n4\n16\n36\n"
    }
   ],
   "source": [
    "my_list = [0,1,4,9,16,25,36]\n",
    "for i in my_list:\n",
    "    if i % 2 == 0:\n",
    "        print(i)"
   ]
  },
  {
   "cell_type": "code",
   "execution_count": 11,
   "metadata": {
    "tags": []
   },
   "outputs": [
    {
     "output_type": "stream",
     "name": "stdout",
     "text": "['fukuoka', 'saitama']\n"
    }
   ],
   "source": [
    "#問題.1\n",
    "my_list = ['tokyo','osaka','fukuoka','aichi','kyoto','chiba','saitama','gunma'] #定義\n",
    "my_list_6 = []　　　　　　　　　　　　　　　　　　　　　　　　　　　　　　　 #格納リスト作成\n",
    "for i in my_list:　　　　　　　　　　　　　　　　　　　　　　　　　　　　　　#for文で要素を1つずつ取り出し\n",
    "    if len(i) >= 6:                                                  　 #判定 \n",
    "        my_list_6.append(i)                                             #空リストに真の要素を追加\n",
    "print(my_list_6)"
   ]
  },
  {
   "cell_type": "code",
   "execution_count": 12,
   "metadata": {
    "tags": []
   },
   "outputs": [
    {
     "output_type": "stream",
     "name": "stdout",
     "text": "23\n"
    }
   ],
   "source": [
    "#問題.2\n",
    "my_list = [1,1,2,3,5,8,13]\n",
    "x = 0\n",
    "for n in my_list:\n",
    "    if n % 2 != 0:\n",
    "        x += n\n",
    "print(x)"
   ]
  }
 ]
}