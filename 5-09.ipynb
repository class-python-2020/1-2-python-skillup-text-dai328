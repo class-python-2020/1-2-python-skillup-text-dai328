{
 "metadata": {
  "language_info": {
   "codemirror_mode": {
    "name": "ipython",
    "version": 3
   },
   "file_extension": ".py",
   "mimetype": "text/x-python",
   "name": "python",
   "nbconvert_exporter": "python",
   "pygments_lexer": "ipython3",
   "version": 3
  },
  "orig_nbformat": 2,
  "kernelspec": {
   "name": "python_defaultSpec_1597042247129",
   "display_name": "Python 3.8.2 32-bit"
  }
 },
 "nbformat": 4,
 "nbformat_minor": 2,
 "cells": [
  {
   "cell_type": "code",
   "execution_count": 1,
   "metadata": {},
   "outputs": [],
   "source": [
    "#ループのテクニック"
   ]
  },
  {
   "cell_type": "code",
   "execution_count": 2,
   "metadata": {
    "tags": []
   },
   "outputs": [
    {
     "output_type": "stream",
     "name": "stdout",
     "text": "1 one\n2 two\n3 three\n"
    }
   ],
   "source": [
    "#辞書のキーと値を同時に取得\n",
    "#itemメソッドを使ってキーと値を同時に取り出すことができる\n",
    "intdict = {'1':'one','2':'two','3':'three'}\n",
    "for key, val in intdict.items():\n",
    "    print(key,val)"
   ]
  },
  {
   "cell_type": "code",
   "execution_count": 3,
   "metadata": {
    "tags": []
   },
   "outputs": [
    {
     "output_type": "stream",
     "name": "stdout",
     "text": "0 fuji\n1 kitadake\n2 okuhodakadake\n"
    }
   ],
   "source": [
    "#インデックスを伴ったループ\n",
    "#enumerateを併用することで、リストの要素と添え字を使うことができます\n",
    "mountains=['fuji','kitadake','okuhodakadake']\n",
    "for i,mt in enumerate(mountains):\n",
    "    print(i,mt)"
   ]
  },
  {
   "cell_type": "code",
   "execution_count": 4,
   "metadata": {
    "tags": []
   },
   "outputs": [
    {
     "output_type": "stream",
     "name": "stdout",
     "text": "1 fuji 3776\n2 kitadake 3193\n3 okuhodakadake 3190\n"
    }
   ],
   "source": [
    "#zipを使ったループ\n",
    "#2つまたはそれ以上のシーケンス型を同時にループするために、関数zip()を使って各要素を一組にすることができます。\n",
    "order = [1,2,3]\n",
    "mountains = ['fuji','kitadake','okuhodakadake']\n",
    "height = [3776,3193,3190]\n",
    "for odr,mt,ht in zip(order,mountains,height):\n",
    "    print(odr,mt,ht)"
   ]
  },
  {
   "cell_type": "code",
   "execution_count": 5,
   "metadata": {
    "tags": []
   },
   "outputs": [
    {
     "output_type": "stream",
     "name": "stdout",
     "text": "fuji\nkitadake\nokuhodakadake\n"
    }
   ],
   "source": [
    "#リストをソートしてループ\n",
    "#リストをソートしてループしたいときは、sortedを使用します。\n",
    "mountains = ['kitadake','okuhodakadake','fuji']\n",
    "for mt in sorted(mountains):\n",
    "    print(mt)"
   ]
  },
  {
   "cell_type": "code",
   "execution_count": 6,
   "metadata": {
    "tags": []
   },
   "outputs": [
    {
     "output_type": "stream",
     "name": "stdout",
     "text": "okuhodakadake\nkitadake\nfuji\n"
    }
   ],
   "source": [
    "#リストを反転してループ\n",
    "#リストを逆順にループしたいときは、reversedを使用します。\n",
    "mountains = ['fuji','kitadake','okuhodakadake']\n",
    "for mt in reversed(mountains):\n",
    "    print(mt)"
   ]
  },
  {
   "cell_type": "code",
   "execution_count": 7,
   "metadata": {
    "tags": []
   },
   "outputs": [
    {
     "output_type": "stream",
     "name": "stdout",
     "text": "fuji 3776\nkitadake 3193\nokuhodakadake 3190\n"
    }
   ],
   "source": [
    "#辞書のソート\n",
    "mountains_in_japan ={'fuji':3776,'kitadake':3193,'okuhodakadake':3190}\n",
    "mountains_in_japan_sorted= sorted(mountains_in_japan.items(),key=lambda x:x[0])\n",
    "for key,val in mountains_in_japan_sorted:\n",
    "    print(key,val)"
   ]
  },
  {
   "cell_type": "code",
   "execution_count": 9,
   "metadata": {
    "tags": []
   },
   "outputs": [
    {
     "output_type": "stream",
     "name": "stdout",
     "text": "okuhodakadake 3190\nkitadake 3193\nfuji 3776\n"
    }
   ],
   "source": [
    "mountains_in_japan ={'fuji':3776,'kitadake':3193,'okuhodakadake':3190}\n",
    "mountains_in_japan_sorted = sorted(mountains_in_japan.items(),key=lambda x:x[1])\n",
    "for key,val in mountains_in_japan_sorted:\n",
    "    print(key,val)"
   ]
  },
  {
   "cell_type": "code",
   "execution_count": 10,
   "metadata": {
    "tags": []
   },
   "outputs": [
    {
     "output_type": "stream",
     "name": "stdout",
     "text": "fuji 3776\nkitadake 3193\nokuhodakadake 3190\n"
    }
   ],
   "source": [
    "for key,val in reversed(mountains_in_japan_sorted):\n",
    "    print(key,val)"
   ]
  },
  {
   "cell_type": "code",
   "execution_count": 11,
   "metadata": {
    "tags": []
   },
   "outputs": [
    {
     "output_type": "stream",
     "name": "stdout",
     "text": "[('fuji', 3776), ('kitadake', 3193), ('okuhodakadake', 3190), ('dumy', 0)]\n"
    }
   ],
   "source": [
    "#問題.1\n",
    "mountains_in_japan = {'fuji':3776,'kitadake':3193,'okuhodakadake':3190,'dumy':0}\n",
    "mountains_in_japan_sorted = sorted(mountains_in_japan.items(),key=lambda x:x[1],reverse=True)\n",
    "print(mountains_in_japan_sorted)"
   ]
  }
 ]
}