{
 "metadata": {
  "language_info": {
   "codemirror_mode": {
    "name": "ipython",
    "version": 3
   },
   "file_extension": ".py",
   "mimetype": "text/x-python",
   "name": "python",
   "nbconvert_exporter": "python",
   "pygments_lexer": "ipython3",
   "version": 3
  },
  "orig_nbformat": 2,
  "kernelspec": {
   "name": "python_defaultSpec_1595992802918",
   "display_name": "Python 3.8.2 32-bit"
  }
 },
 "nbformat": 4,
 "nbformat_minor": 2,
 "cells": [
  {
   "cell_type": "code",
   "execution_count": 2,
   "metadata": {
    "tags": []
   },
   "outputs": [
    {
     "output_type": "stream",
     "name": "stdout",
     "text": "abc\n\n"
    }
   ],
   "source": [
    "#ファイルの操作\n",
    "f = open('sample.txt', 'r')   #openしたらcloseが必要\n",
    "data = f.readline()\n",
    "print(data)\n",
    "f.close()"
   ]
  },
  {
   "cell_type": "code",
   "execution_count": 4,
   "metadata": {
    "tags": []
   },
   "outputs": [
    {
     "output_type": "stream",
     "name": "stdout",
     "text": "abc\n\n"
    }
   ],
   "source": [
    "with open('sample.txt','r') as f: #処理が複雑になってプログラムサイズが大きくなると、close()を書き漏らす恐れがある。\n",
    "#それで、withブロックを使ってブロックの終了時に自動的にファイルが閉じる\n",
    "    data = f.readline()\n",
    "    print(data)"
   ]
  },
  {
   "cell_type": "code",
   "execution_count": 5,
   "metadata": {},
   "outputs": [],
   "source": [
    "#ファイルの書き込み\n",
    "with open('sample.txt','w')as f:\n",
    "    f.write('test') \n",
    "#このコードはtestという文字列がファイルに書きこむ\n",
    "#しかし、書き込むのはwrite()では指定された文字列のみ\n",
    "#末尾に改行書き込まれない→書き込む場合は文字列の末尾の改行を明示をする"
   ]
  },
  {
   "cell_type": "code",
   "execution_count": 7,
   "metadata": {},
   "outputs": [],
   "source": [
    "with open('sample.txt','w')as f:\n",
    "    f.write('test\\n')"
   ]
  },
  {
   "cell_type": "code",
   "execution_count": 13,
   "metadata": {},
   "outputs": [],
   "source": [
    "#ファイルの読み込み\n",
    "with open('sample.txt','r')as f:\n",
    "    data = f.readline() \n",
    "    line = data.strip()\n",
    "#readline()を使うとテキストファイルの一行を読み込むことができます。\n",
    "#readline()で読み込まれた文字列の末尾の改行文字「\\n」に変換される"
   ]
  },
  {
   "cell_type": "code",
   "execution_count": 15,
   "metadata": {
    "tags": []
   },
   "outputs": [
    {
     "output_type": "stream",
     "name": "stdout",
     "text": "test\n"
    }
   ],
   "source": [
    "with open('sample.txt','r') as f:\n",
    "    for line in f:\n",
    "        print(line.strip())\n",
    "#テキストファイルを先頭から順に1行ずつ読み込むのは、ファイルをオープンしてできるファイルオブジェクトを,for文でループされることで実現できます。"
   ]
  },
  {
   "cell_type": "code",
   "execution_count": 16,
   "metadata": {
    "tags": []
   },
   "outputs": [
    {
     "output_type": "stream",
     "name": "stdout",
     "text": "['test\\n']\n"
    }
   ],
   "source": [
    "with open('sample.txt','r')as f:\n",
    "    lines = f.readlines()\n",
    "print(lines)\n",
    "#一度にすべてを読み込むときは、readlines()を使うことができる"
   ]
  },
  {
   "cell_type": "code",
   "execution_count": 17,
   "metadata": {
    "tags": []
   },
   "outputs": [
    {
     "output_type": "stream",
     "name": "stdout",
     "text": "['test\\n']\n"
    }
   ],
   "source": [
    "with open('sample.txt','r') as f:\n",
    "    lines = list(f)\n",
    "print(lines)\n",
    "#f.readlines()の代わりにlist(f)とすることでも、同じことが実現可"
   ]
  },
  {
   "cell_type": "code",
   "execution_count": 19,
   "metadata": {
    "tags": []
   },
   "outputs": [
    {
     "output_type": "stream",
     "name": "stdout",
     "text": "test\n\n"
    }
   ],
   "source": [
    "#問題.1\n",
    "with open('sample.txt','r')as f:\n",
    "    line = f.readline()\n",
    "    print(line)"
   ]
  },
  {
   "cell_type": "code",
   "execution_count": 21,
   "metadata": {
    "tags": []
   },
   "outputs": [
    {
     "output_type": "stream",
     "name": "stdout",
     "text": "55\n"
    }
   ],
   "source": [
    "#問題.2\n",
    "with open('numbers.txt','r') as f:\n",
    "    sum = 0\n",
    "    for data in f:\n",
    "        num = int(data)\n",
    "        sum += num\n",
    "    print(sum)"
   ]
  }
 ]
}