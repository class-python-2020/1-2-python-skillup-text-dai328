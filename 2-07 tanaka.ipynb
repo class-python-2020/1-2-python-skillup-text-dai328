{
 "cells": [
  {
   "cell_type": "code",
   "execution_count": null,
   "metadata": {},
   "outputs": [],
   "source": [
    "[]"
   ]
  },
  {
   "cell_type": "code",
   "execution_count": null,
   "metadata": {},
   "outputs": [],
   "source": [
    "[2, 4, 8, 16]"
   ]
  },
  {
   "cell_type": "code",
   "execution_count": 1,
   "metadata": {},
   "outputs": [
    {
     "output_type": "execute_result",
     "data": {
      "text/plain": "[2, 4, 8, 16, 3, 6, 9, 12]"
     },
     "metadata": {},
     "execution_count": 1
    }
   ],
   "source": [
    "[2, 4, 8, 16] + [3, 6, 9 ,12]"
   ]
  },
  {
   "cell_type": "code",
   "execution_count": 2,
   "metadata": {},
   "outputs": [
    {
     "output_type": "execute_result",
     "data": {
      "text/plain": "[2, 4, 8, 16, 3, 6, 9, 12]"
     },
     "metadata": {},
     "execution_count": 2
    }
   ],
   "source": [
    "my_list = [2, 4, 8, 16]\n",
    "my_list + [3, 6, 9, 12]"
   ]
  },
  {
   "cell_type": "code",
   "execution_count": 3,
   "metadata": {
    "tags": []
   },
   "outputs": [
    {
     "output_type": "stream",
     "name": "stdout",
     "text": "[2, 4, 8, 16]\n"
    }
   ],
   "source": [
    "print(my_list)"
   ]
  },
  {
   "cell_type": "code",
   "execution_count": 4,
   "metadata": {
    "tags": []
   },
   "outputs": [
    {
     "output_type": "stream",
     "name": "stdout",
     "text": "[2, 4, 8, 16, 3, 6, 9]\n"
    }
   ],
   "source": [
    "my_list = [2, 4, 8, 16]\n",
    "my_list.append(3) #リストの末尾要素に1つ追加するときにappend()を使う\n",
    "my_list.append(6)\n",
    "my_list.append(9)\n",
    "print(my_list)"
   ]
  },
  {
   "cell_type": "code",
   "execution_count": 5,
   "metadata": {
    "tags": []
   },
   "outputs": [
    {
     "output_type": "stream",
     "name": "stdout",
     "text": "[2, 4, 8, 16, 3, 6, 9, 12]\n"
    }
   ],
   "source": [
    "my_list =[2, 4, 8, 16]\n",
    "my_list.extend([3, 6, 9, 12]) #リストの末尾に別のリストを連結するにはextend()を使う\n",
    "print(my_list)"
   ]
  },
  {
   "cell_type": "code",
   "execution_count": 6,
   "metadata": {
    "tags": []
   },
   "outputs": [
    {
     "output_type": "stream",
     "name": "stdout",
     "text": "[2, 3, 4, 6, 8, 9, 12, 16]\n"
    }
   ],
   "source": [
    "my_list = [2, 4, 8, 16 , 3, 6, 9, 12]\n",
    "my_list.sort() #並べ替えの時は、メソッドsort()を使う　sort()は、昇順に並べ替える　リストの内容が上書きされる\n",
    "print(my_list)"
   ]
  },
  {
   "cell_type": "code",
   "execution_count": 7,
   "metadata": {
    "tags": []
   },
   "outputs": [
    {
     "output_type": "stream",
     "name": "stdout",
     "text": "[16, 12, 9, 8, 6, 4, 3, 2]\n"
    }
   ],
   "source": [
    "my_list = [2,4,8,16,3,6,9,12]\n",
    "my_list.sort(reverse=True) #sort()の引数にreverse=Trueを指定すると降順に並べ替える\n",
    "print(my_list)"
   ]
  },
  {
   "cell_type": "code",
   "execution_count": 8,
   "metadata": {
    "tags": []
   },
   "outputs": [
    {
     "output_type": "stream",
     "name": "stdout",
     "text": "[12, 9, 6, 3, 16, 8, 4, 2]\n"
    }
   ],
   "source": [
    "my_list = [2,4,8,16,3,6,9,12]\n",
    "my_list.reverse() #リストの逆順にするメソッドreverse() こちらもsort()と同様リスト内容が上書き\n",
    "print(my_list)"
   ]
  },
  {
   "cell_type": "code",
   "execution_count": 10,
   "metadata": {
    "tags": []
   },
   "outputs": [
    {
     "output_type": "stream",
     "name": "stdout",
     "text": "[16, 12, 9, 8, 6, 4, 3, 2]\n"
    }
   ],
   "source": [
    "my_list = [2, 4, 8, 16, 3, 6, 9, 12]\n",
    "my_list.sort() #sort()とreverse()を組み合わせることで降順の並び替えができる\n",
    "my_list.reverse() #メソッドを二回呼ぶので sort(reverse=True)の方が効率的\n",
    "print(my_list)"
   ]
  },
  {
   "cell_type": "code",
   "execution_count": 12,
   "metadata": {
    "tags": []
   },
   "outputs": [
    {
     "output_type": "stream",
     "name": "stdout",
     "text": "[2, 4, 8, 16, 3, 6, 9, 12]\n[2, 3, 4, 6, 8, 9, 12, 16]\n[16, 12, 9, 8, 6, 4, 3, 2]\n"
    }
   ],
   "source": [
    "my_list = [2, 4, 8, 16, 3, 6, 9, 12]\n",
    "new_list = sorted(my_list)\n",
    "rev_list = sorted(my_list, reverse=True)\n",
    "print(my_list)\n",
    "print(new_list)\n",
    "print(rev_list)"
   ]
  }
 ],
 "metadata": {
  "language_info": {
   "codemirror_mode": {
    "name": "ipython",
    "version": 3
   },
   "file_extension": ".py",
   "mimetype": "text/x-python",
   "name": "python",
   "nbconvert_exporter": "python",
   "pygments_lexer": "ipython3",
   "version": 3
  },
  "orig_nbformat": 2,
  "kernelspec": {
   "name": "python_defaultSpec_1594104027144",
   "display_name": "Python 3.8.2 32-bit"
  }
 },
 "nbformat": 4,
 "nbformat_minor": 2
}