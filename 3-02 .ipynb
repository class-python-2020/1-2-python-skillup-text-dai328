{
 "metadata": {
  "language_info": {
   "codemirror_mode": {
    "name": "ipython",
    "version": 3
   },
   "file_extension": ".py",
   "mimetype": "text/x-python",
   "name": "python",
   "nbconvert_exporter": "python",
   "pygments_lexer": "ipython3",
   "version": 3
  },
  "orig_nbformat": 2,
  "kernelspec": {
   "name": "python_defaultSpec_1595903509185",
   "display_name": "Python 3.8.2 32-bit"
  }
 },
 "nbformat": 4,
 "nbformat_minor": 2,
 "cells": [
  {
   "cell_type": "code",
   "execution_count": 1,
   "metadata": {},
   "outputs": [],
   "source": [
    "#if 文の応用\n",
    "#if 条件式:\n",
    "#   条件式が真だった場合の処理\n",
    "#else:\n",
    "#    条件式が偽だった場合の処理"
   ]
  },
  {
   "cell_type": "code",
   "execution_count": 2,
   "metadata": {
    "tags": []
   },
   "outputs": [
    {
     "output_type": "stream",
     "name": "stdout",
     "text": "NG\n"
    }
   ],
   "source": [
    "#変数aの値が10以上だった場合に[OK]と表示\n",
    "#10未満だった場合だと[NG]を表示\n",
    "a = 1 #テスト\n",
    "if a >= 10:\n",
    "    print('OK')\n",
    "else:\n",
    "    print('NG')"
   ]
  },
  {
   "cell_type": "code",
   "execution_count": 3,
   "metadata": {},
   "outputs": [],
   "source": [
    "#elif \n",
    "#if 条件式1:\n",
    "#   条件式1が真だった場合の処理\n",
    "#elif 条件式2:\n",
    "#　 条件式2が真だった場合の処理\n",
    "#else:\n",
    "#   いずれかの条件式も偽だった場合の処理"
   ]
  },
  {
   "cell_type": "code",
   "execution_count": 4,
   "metadata": {
    "tags": []
   },
   "outputs": [
    {
     "output_type": "stream",
     "name": "stdout",
     "text": "fifteen\n"
    }
   ],
   "source": [
    "a = 30\n",
    "if a % 15 == 0:\n",
    "    print('fifteen')\n",
    "elif a % 3 == 0:\n",
    "    print('three')\n",
    "elif a % 5 == 0:\n",
    "    print('five')\n",
    "else:\n",
    "    pass"
   ]
  },
  {
   "cell_type": "code",
   "execution_count": 6,
   "metadata": {},
   "outputs": [
    {
     "output_type": "error",
     "ename": "SyntaxError",
     "evalue": "invalid syntax (<ipython-input-6-3f53c39c4fab>, line 3)",
     "traceback": [
      "\u001b[1;36m  File \u001b[1;32m\"<ipython-input-6-3f53c39c4fab>\"\u001b[1;36m, line \u001b[1;32m3\u001b[0m\n\u001b[1;33m    elif % 3 == 0:\u001b[0m\n\u001b[1;37m         ^\u001b[0m\n\u001b[1;31mSyntaxError\u001b[0m\u001b[1;31m:\u001b[0m invalid syntax\n"
     ]
    }
   ],
   "source": [
    "if a % 15 == 0:\n",
    "    print('fifteen')\n",
    "elif % 3 == 0:\n",
    "    print('three')\n",
    "elif a % 5 == 0:\n",
    "    print('five')"
   ]
  },
  {
   "cell_type": "code",
   "execution_count": 9,
   "metadata": {
    "tags": []
   },
   "outputs": [
    {
     "output_type": "stream",
     "name": "stdout",
     "text": "NG\n"
    }
   ],
   "source": [
    "#論理演算子(and)\n",
    "a, b = 10,20\n",
    "if a > 10 and b > 10 :\n",
    "    print('OK')\n",
    "else:\n",
    "    print('NG')"
   ]
  },
  {
   "cell_type": "code",
   "execution_count": 12,
   "metadata": {
    "tags": []
   },
   "outputs": [
    {
     "output_type": "stream",
     "name": "stdout",
     "text": "OK\n"
    }
   ],
   "source": [
    "#論理演算子(or)\n",
    "a, b = 20,10\n",
    "if a > 10 or b > 10:\n",
    "    print('OK')\n",
    "else:\n",
    "    print('NG')"
   ]
  },
  {
   "cell_type": "code",
   "execution_count": 15,
   "metadata": {
    "tags": []
   },
   "outputs": [
    {
     "output_type": "stream",
     "name": "stdout",
     "text": "11\n"
    }
   ],
   "source": [
    "#問題.1\n",
    "a = 10\n",
    "if a > 10:\n",
    "    a /= 2\n",
    "else:\n",
    "    a += 1\n",
    "print(a)"
   ]
  },
  {
   "cell_type": "code",
   "execution_count": 19,
   "metadata": {
    "tags": []
   },
   "outputs": [
    {
     "output_type": "stream",
     "name": "stdout",
     "text": "12\n"
    }
   ],
   "source": [
    "#問題.2\n",
    "a = 10\n",
    "if a >= 100:\n",
    "    a *=2\n",
    "elif a >= 50:\n",
    "    a /=2\n",
    "else:\n",
    "    a +=2\n",
    "print(a)"
   ]
  }
 ]
}